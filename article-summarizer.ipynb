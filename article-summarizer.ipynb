{
 "cells": [
  {
   "cell_type": "markdown",
   "metadata": {},
   "source": [
    "# Web Mining and Applied NLP (44-620)\n",
    "\n",
    "## Final Project: Article Summarizer\n",
    "\n",
    "### Student Name: Mahitha\n",
    "\n",
    "Perform the tasks described in the Markdown cells below.  When you have completed the assignment make sure your code cells have all been run (and have output beneath them) and ensure you have committed and pushed ALL of your changes to your assignment repository.\n",
    "\n",
    "You should bring in code from previous assignments to help you answer the questions below.\n",
    "\n",
    "Every question that requires you to write code will have a code cell underneath it; you may either write your entire solution in that cell or write it in a python file (`.py`), then import and run the appropriate code to answer the question."
   ]
  },
  {
   "cell_type": "markdown",
   "metadata": {},
   "source": [
    "1. Find on the internet an article or blog post about a topic that interests you and you are able to get the text for using the technologies we have applied in the course.  Get the html for the article and store it in a file (which you must submit with your project)"
   ]
  },
  {
   "cell_type": "code",
   "execution_count": 13,
   "metadata": {},
   "outputs": [],
   "source": [
    "import requests\n",
    "import spacy\n",
    "from collections import Counter\n",
    "import pickle\n",
    "from bs4 import BeautifulSoup\n",
    "import matplotlib.pyplot as plt\n",
    "from spacytextblob.spacytextblob import SpacyTextBlob"
   ]
  },
  {
   "cell_type": "code",
   "execution_count": 14,
   "metadata": {},
   "outputs": [
    {
     "name": "stdout",
     "output_type": "stream",
     "text": [
      "HTML content saved to 'captech_article.html'\n"
     ]
    }
   ],
   "source": [
    "import requests\n",
    "\n",
    "url = 'https://www.npr.org/2025/06/28/nx-s1-5449648/j-m-smucker-plans-to-remove-artificial-colors-from-its-jams-and-other-products'\n",
    "\n",
    "# Sending a GET request to the URL\n",
    "response = requests.get(url)\n",
    "\n",
    "# Check if the response status code is 200 (successful)\n",
    "if response.status_code == 200:\n",
    "    # Save the content to an HTML file\n",
    "    with open(\"captech_article.html\", \"w\", encoding=\"utf-8\") as f:\n",
    "        f.write(response.text)\n",
    "    print(\"HTML content saved to 'captech_article.html'\")\n",
    "else:\n",
    "    print(f\"Failed to fetch article. Status code: {response.status_code}\")\n"
   ]
  },
  {
   "cell_type": "markdown",
   "metadata": {},
   "source": [
    "2. Read in your article's html source from the file you created in question 1 and do sentiment analysis on the article/post's text (use `.get_text()`).  Print the polarity score with an appropriate label.  Additionally print the number of sentences in the original article (with an appropriate label)"
   ]
  },
  {
   "cell_type": "code",
   "execution_count": 15,
   "metadata": {},
   "outputs": [
    {
     "name": "stdout",
     "output_type": "stream",
     "text": [
      "Polarity Score: -0.071\n",
      "Number of Sentences: 15\n"
     ]
    }
   ],
   "source": [
    "import spacy\n",
    "from spacytextblob.spacytextblob import SpacyTextBlob\n",
    "from bs4 import BeautifulSoup\n",
    "\n",
    "# Read the HTML file\n",
    "with open(\"captech_article.html\", \"r\", encoding=\"utf-8\") as f:\n",
    "    html = f.read()\n",
    "\n",
    "# Parse HTML and extract text\n",
    "soup = BeautifulSoup(html, \"html.parser\")\n",
    "text = soup.get_text()\n",
    "\n",
    "# Load spaCy and add TextBlob pipe\n",
    "nlp = spacy.load(\"en_core_web_sm\")\n",
    "if \"spacytextblob\" not in nlp.pipe_names:\n",
    "    nlp.add_pipe(\"spacytextblob\")\n",
    "\n",
    "# Perform sentiment analysis\n",
    "doc = nlp(text)\n",
    "polarity = doc._.blob.polarity\n",
    "num_sentences = len(list(doc.sents))\n",
    "\n",
    "# Print results\n",
    "print(f\"Polarity Score: {polarity:.3f}\")\n",
    "print(f\"Number of Sentences: {num_sentences}\")"
   ]
  },
  {
   "cell_type": "markdown",
   "metadata": {},
   "source": [
    "3. Load the article text into a trained `spaCy` pipeline, and determine the 5 most frequent tokens (converted to lower case).  Print the common tokens with an appropriate label.  Additionally, print the tokens their frequencies (with appropriate labels)"
   ]
  },
  {
   "cell_type": "code",
   "execution_count": 16,
   "metadata": {},
   "outputs": [
    {
     "name": "stdout",
     "output_type": "stream",
     "text": [
      "Top 5 Most Frequent Tokens (lowercased):\n",
      "Token: 'npr', Frequency: 13\n",
      "Token: 'smucker', Frequency: 10\n",
      "Token: 'artificial', Frequency: 9\n",
      "Token: 'food', Frequency: 8\n",
      "Token: 'dyes', Frequency: 8\n"
     ]
    }
   ],
   "source": [
    "import spacy\n",
    "from collections import Counter\n",
    "from bs4 import BeautifulSoup\n",
    "\n",
    "# Load spaCy model\n",
    "nlp = spacy.load(\"en_core_web_sm\")\n",
    "\n",
    "# Read the HTML file\n",
    "with open(\"captech_article.html\", \"r\", encoding=\"utf-8\") as f:\n",
    "    html = f.read()\n",
    "\n",
    "# Parse and extract text\n",
    "soup = BeautifulSoup(html, \"html.parser\")\n",
    "text = soup.get_text()\n",
    "\n",
    "# Process text with spaCy\n",
    "doc = nlp(text)\n",
    "\n",
    "# Filter tokens: lowercase, alphabetic, non-stopwords\n",
    "tokens = [token.text.lower() for token in doc if token.is_alpha and not token.is_stop]\n",
    "\n",
    "# Count frequencies\n",
    "freq = Counter(tokens).most_common(5)\n",
    "\n",
    "# Print results one per line\n",
    "print(\"Top 5 Most Frequent Tokens (lowercased):\")\n",
    "for word, count in freq:\n",
    "    print(f\"Token: '{word}', Frequency: {count}\")\n"
   ]
  },
  {
   "cell_type": "markdown",
   "metadata": {},
   "source": [
    "4. Load the article text into a trained `spaCy` pipeline, and determine the 5 most frequent lemmas (converted to lower case).  Print the common lemmas with an appropriate label.  Additionally, print the lemmas with their frequencies (with appropriate labels)."
   ]
  },
  {
   "cell_type": "code",
   "execution_count": 17,
   "metadata": {},
   "outputs": [
    {
     "name": "stdout",
     "output_type": "stream",
     "text": [
      "Top 5 Most Frequent Lemmas (lowercased):\n",
      "Lemma: 'npr', Frequency: 13\n",
      "Lemma: 'dye', Frequency: 11\n",
      "Lemma: 'smucker', Frequency: 10\n",
      "Lemma: 'artificial', Frequency: 9\n",
      "Lemma: 'food', Frequency: 9\n"
     ]
    }
   ],
   "source": [
    "import spacy\n",
    "from collections import Counter\n",
    "from bs4 import BeautifulSoup\n",
    "\n",
    "# Load spaCy model\n",
    "nlp = spacy.load(\"en_core_web_sm\")\n",
    "\n",
    "# Read and parse HTML\n",
    "with open(\"captech_article.html\", \"r\", encoding=\"utf-8\") as f:\n",
    "    html = f.read()\n",
    "soup = BeautifulSoup(html, \"html.parser\")\n",
    "text = soup.get_text()\n",
    "\n",
    "# Process text with spaCy\n",
    "doc = nlp(text)\n",
    "\n",
    "# Filter and lemmatize: lowercase, alphabetic, non-stop\n",
    "lemmas = [token.lemma_.lower() for token in doc if token.is_alpha and not token.is_stop]\n",
    "\n",
    "# Count and get top 5\n",
    "lemma_freq = Counter(lemmas).most_common(5)\n",
    "\n",
    "# Print results\n",
    "print(\"Top 5 Most Frequent Lemmas (lowercased):\")\n",
    "for lemma, count in lemma_freq:\n",
    "    print(f\"Lemma: '{lemma}', Frequency: {count}\")\n"
   ]
  },
  {
   "cell_type": "markdown",
   "metadata": {},
   "source": [
    "5. Make a list containing the scores (using tokens) of every sentence in the article, and plot a histogram with appropriate titles and axis labels of the scores. From your histogram, what seems to be the most common range of scores (put the answer in a comment after your code)?"
   ]
  },
  {
   "cell_type": "code",
   "execution_count": 18,
   "metadata": {},
   "outputs": [
    {
     "data": {
      "image/png": "[encoded data removed]",
      "text/plain": [
       "<Figure size 1000x600 with 1 Axes>"
      ]
     },
     "metadata": {},
     "output_type": "display_data"
    }
   ],
   "source": [
    "import spacy\n",
    "from spacytextblob.spacytextblob import SpacyTextBlob\n",
    "from bs4 import BeautifulSoup\n",
    "import matplotlib.pyplot as plt\n",
    "\n",
    "# Load and configure spaCy pipeline\n",
    "nlp = spacy.load(\"en_core_web_sm\")\n",
    "if \"spacytextblob\" not in nlp.pipe_names:\n",
    "    nlp.add_pipe(\"spacytextblob\")\n",
    "\n",
    "# Read HTML and extract text\n",
    "with open(\"captech_article.html\", \"r\", encoding=\"utf-8\") as f:\n",
    "    html = f.read()\n",
    "soup = BeautifulSoup(html, \"html.parser\")\n",
    "text = soup.get_text()\n",
    "\n",
    "# Process full text\n",
    "doc = nlp(text)\n",
    "\n",
    "# Get polarity scores for each sentence\n",
    "sentence_scores = [sent._.blob.polarity for sent in doc.sents]\n",
    "# Plot histogram\n",
    "plt.figure(figsize=(10, 6))\n",
    "plt.hist(sentence_scores, bins=20, color='skyblue', edgecolor='black')\n",
    "plt.title(\"Sentiment Polarity Scores per Sentence\")\n",
    "plt.xlabel(\"Polarity Score\")\n",
    "plt.ylabel(\"Number of Sentences\")\n",
    "plt.grid(True)\n",
    "plt.tight_layout()\n",
    "plt.show()\n",
    "\n",
    "### Most common score range\n",
    "# Most sentences have a polarity score of exactly 0.0, indicating a **neutral sentiment** is most common in this article."
   ]
  },
  {
   "cell_type": "markdown",
   "metadata": {},
   "source": [
    "6. Make a list containing the scores (using lemmas) of every sentence in the article, and plot a histogram with appropriate titles and axis labels of the scores.  From your histogram, what seems to be the most common range of scores (put the answer in a comment after your code)?"
   ]
  },
  {
   "cell_type": "code",
   "execution_count": 19,
   "metadata": {},
   "outputs": [
    {
     "data": {
      "image/png": "[encoded data removed]",
      "text/plain": [
       "<Figure size 1000x600 with 1 Axes>"
      ]
     },
     "metadata": {},
     "output_type": "display_data"
    }
   ],
   "source": [
    "import spacy\n",
    "from spacytextblob.spacytextblob import SpacyTextBlob\n",
    "from bs4 import BeautifulSoup\n",
    "import matplotlib.pyplot as plt\n",
    "\n",
    "# Load spaCy with sentiment component\n",
    "nlp = spacy.load(\"en_core_web_sm\")\n",
    "if \"spacytextblob\" not in nlp.pipe_names:\n",
    "    nlp.add_pipe(\"spacytextblob\")\n",
    "\n",
    "# Read and extract article text\n",
    "with open(\"captech_article.html\", \"r\", encoding=\"utf-8\") as f:\n",
    "    html = f.read()\n",
    "soup = BeautifulSoup(html, \"html.parser\")\n",
    "text = soup.get_text()\n",
    "\n",
    "# Process with spaCy\n",
    "doc = nlp(text)\n",
    "\n",
    "# Compute sentence sentiment using lemmas\n",
    "lemma_scores = []\n",
    "for sent in doc.sents:\n",
    "    lemma_text = \" \".join([token.lemma_ for token in sent if not token.is_punct])\n",
    "    lemma_doc = nlp(lemma_text)\n",
    "    score = lemma_doc._.blob.polarity\n",
    "    lemma_scores.append(score)\n",
    "\n",
    "    # Plot histogram\n",
    "plt.figure(figsize=(10, 6))\n",
    "plt.hist(lemma_scores, bins=20, color='skyblue', edgecolor='black')\n",
    "plt.title(\"Histogram of Lemma-Based Sentence Sentiment Scores\")\n",
    "plt.xlabel(\"Sentiment Polarity Score\")\n",
    "plt.ylabel(\"Number of Sentences\")\n",
    "plt.grid(True)\n",
    "plt.show()\n",
    "\n",
    "# Comment based on histogram:\n",
    "# Most sentences have a polarity score of exactly 0.0, indicating neutral sentiment is most common even after lemmatization."
   ]
  },
  {
   "cell_type": "markdown",
   "metadata": {},
   "source": [
    "7. Using the histograms from questions 5 and 6, decide a \"cutoff\" score for tokens and lemmas such that fewer than half the sentences would have a score greater than the cutoff score.  Record the scores in this Markdown cell\n",
    "\n",
    "* Cutoff Score (tokens): \n",
    "* Cutoff Score (lemmas):\n",
    "\n",
    "Feel free to change these scores as you generate your summaries.  Ideally, we're shooting for at least 6 sentences for our summary, but don't want more than 10 (these numbers are rough estimates; they depend on the length of your article)."
   ]
  },
  {
   "cell_type": "markdown",
   "metadata": {},
   "source": [
    "* **Cutoff Score (tokens)**: 0.0\n",
    "* **Cutoff Score (lemmas)**: 0.0\n"
   ]
  },
  {
   "cell_type": "markdown",
   "metadata": {},
   "source": [
    "8. Create a summary of the article by going through every sentence in the article and adding it to an (initially) empty list if its score (based on tokens) is greater than the cutoff score you identified in question 8.  If your loop variable is named `sent`, you may find it easier to add `sent.text.strip()` to your list of sentences.  Print the summary (I would cleanly generate the summary text by `join`ing the strings in your list together with a space (`' '.join(sentence_list)`)."
   ]
  },
  {
   "cell_type": "code",
   "execution_count": 20,
   "metadata": {},
   "outputs": [
    {
     "name": "stdout",
     "output_type": "stream",
     "text": [
      "Summary based on token sentiment scores:\n",
      "\n",
      "In April, Trump's Health Secretary Robert F. Kennedy Jr. and FDA Commissioner Marty Makary said the agency would take steps to eliminate synthetic dyes by the end of 2026, largely by relying on voluntary efforts from the food industry.\n"
     ]
    }
   ],
   "source": [
    "import spacy\n",
    "from spacytextblob.spacytextblob import SpacyTextBlob\n",
    "from bs4 import BeautifulSoup\n",
    "\n",
    "# Load and parse HTML\n",
    "with open(\"captech_article.html\", \"r\", encoding=\"utf-8\") as f:\n",
    "    html = f.read()\n",
    "soup = BeautifulSoup(html, \"html.parser\")\n",
    "text = soup.get_text()\n",
    "\n",
    "# Load spaCy model and add spacytextblob\n",
    "nlp = spacy.load(\"en_core_web_sm\")\n",
    "if \"spacytextblob\" not in nlp.pipe_names:\n",
    "    nlp.add_pipe(\"spacytextblob\")\n",
    "\n",
    "    # Analyze text\n",
    "doc = nlp(text)\n",
    "\n",
    "# Define cutoff score (you can change this based on your analysis)\n",
    "cutoff_score_tokens = 0.05\n",
    "\n",
    "# Select high-polarity sentences\n",
    "summary_sentences = [sent.text.strip() for sent in doc.sents if sent._.blob.polarity > cutoff_score_tokens]\n",
    "\n",
    "# Join with newline for better formatting\n",
    "summary = '\\n'.join(summary_sentences)\n",
    "\n",
    "# Print result\n",
    "print(\"Summary based on token sentiment scores:\\n\")\n",
    "for sent in summary_sentences:\n",
    "    print(sent)\n",
    "\n"
   ]
  },
  {
   "cell_type": "markdown",
   "metadata": {},
   "source": [
    "9. Print the polarity score of your summary you generated with the token scores (with an appropriate label). Additionally, print the number of sentences in the summarized article."
   ]
  },
  {
   "cell_type": "code",
   "execution_count": 21,
   "metadata": {},
   "outputs": [
    {
     "name": "stdout",
     "output_type": "stream",
     "text": [
      "Polarity Score of the Summary: 0.21428571428571427\n",
      "Number of Sentences in the Summary: 1\n"
     ]
    }
   ],
   "source": [
    "# Re-analyze the summary text to get sentiment\n",
    "summary_doc = nlp(summary)\n",
    "\n",
    "# Get polarity score\n",
    "summary_polarity = summary_doc._.blob.polarity\n",
    "\n",
    "# Count number of sentences\n",
    "summary_sentence_count = len(list(summary_doc.sents))\n",
    "\n",
    "# Print results\n",
    "print(f\"Polarity Score of the Summary: {summary_polarity}\")\n",
    "print(f\"Number of Sentences in the Summary: {summary_sentence_count}\")"
   ]
  },
  {
   "cell_type": "markdown",
   "metadata": {},
   "source": [
    "10. Create a summary of the article by going through every sentence in the article and adding it to an (initially) empty list if its score (based on lemmas) is greater than the cutoff score you identified in question 8.  If your loop variable is named `sent`, you may find it easier to add `sent.text.strip()` to your list of sentences.  Print the summary (I would cleanly generate the summary text by `join`ing the strings in your list together with a space (`' '.join(sentence_list)`)."
   ]
  },
  {
   "cell_type": "code",
   "execution_count": 22,
   "metadata": {},
   "outputs": [
    {
     "name": "stdout",
     "output_type": "stream",
     "text": [
      "Lemma-Based Summary:\n",
      "\n",
      "But some products still have them, including sugar-free jams and ice cream toppings. Earlier this week, Nestle and Conagra Brands — the parent company of Duncan Hines — both said they would phase out synthetic dyes. Kraft Heinz and General Mills made similar pledges last week. In January, days before President Donald Trump took office, the U.S. regulators banned the dye called Red 3 from the nation's food supply, nearly 35 years after it was barred from cosmetics because of potential cancer risk. In April, Trump's Health Secretary Robert F. Kennedy Jr. and FDA Commissioner Marty Makary said the agency would take steps to eliminate synthetic dyes by the end of 2026, largely by relying on voluntary efforts from the food industry.\n"
     ]
    }
   ],
   "source": [
    "# Define the cutoff score for lemmas (same as in Q7)\n",
    "cutoff_lemma = 0.0\n",
    "\n",
    "# Create a list of sentences with lemma-based score > cutoff\n",
    "lemma_summary_sentences = [sent.text.strip() for sent, score in zip(doc.sents, lemma_scores) if score > cutoff_lemma]\n",
    "\n",
    "# Join sentences into a single summary string\n",
    "lemma_summary = ' '.join(lemma_summary_sentences)\n",
    "\n",
    "# Print the lemma-based summary\n",
    "print(\"Lemma-Based Summary:\\n\")\n",
    "print(lemma_summary)"
   ]
  },
  {
   "cell_type": "markdown",
   "metadata": {},
   "source": [
    "11. Print the polarity score of your summary you generated with the lemma scores (with an appropriate label). Additionally, print the number of sentences in the summarized article."
   ]
  },
  {
   "cell_type": "code",
   "execution_count": 23,
   "metadata": {},
   "outputs": [
    {
     "name": "stdout",
     "output_type": "stream",
     "text": [
      "Polarity score of lemma-based summary: 0.04553571428571429\n",
      "Number of sentences in lemma-based summary: 5\n"
     ]
    }
   ],
   "source": [
    "from textblob import TextBlob\n",
    "# Get polarity using TextBlob\n",
    "lemma_summary_blob = TextBlob(lemma_summary)\n",
    "lemma_summary_polarity = lemma_summary_blob.sentiment.polarity\n",
    "\n",
    "# Get number of sentences in the summary\n",
    "num_sentences_lemma_summary = len(lemma_summary_sentences)\n",
    "\n",
    "# Print results\n",
    "print(f\"Polarity score of lemma-based summary: {lemma_summary_polarity}\")\n",
    "print(f\"Number of sentences in lemma-based summary: {num_sentences_lemma_summary}\")"
   ]
  },
  {
   "cell_type": "markdown",
   "metadata": {},
   "source": [
    "12.  Compare your polarity scores of your summaries to the polarity scores of the initial article.  Is there a difference?  Why do you think that may or may not be?.  Answer in this Markdown cell.  "
   ]
  },
  {
   "cell_type": "markdown",
   "metadata": {},
   "source": [
    "**The full article has a slightly negative sentiment (-0.07), while the lemma-based summary has a slightly positive sentiment (0.0455).**\n",
    "\n",
    "- This difference likely arises because the summary only includes a subset of sentences — specifically, those with higher lexical importance or richness based on lemmatized content. These sentences often reflect main ideas, which may carry more emotionally charged language, especially if they include the company’s commitments, reactions, or consumer responses.\n",
    "\n",
    "- Meanwhile, the full article includes neutral or factual background information (e.g., history, context, disclaimers), which can dilute overall sentiment and pull the polarity closer to neutral or slightly negative depending on tone.\n",
    "\n",
    "- In short, the summary amplifies the sentiment by focusing on key content, while the full article presents a more balanced, mixed tone across all its sections."
   ]
  },
  {
   "cell_type": "markdown",
   "metadata": {},
   "source": [
    "13. Based on your reading of the original article, which summary do you think is better (if there's a difference).  Why do you think this might be?"
   ]
  },
  {
   "cell_type": "markdown",
   "metadata": {},
   "source": [
    "- Based on a reading of the original article, the lemma-based summary appears to be better than the token-based summary. It includes more meaningful and representative sentences, capturing the core message of the article: J.M. Smucker's decision to remove artificial colors from its products, the reasons behind it, and its potential impact.\n",
    "\n",
    "- The token-based summary may include sentences with positive sentiment, but not necessarily those with high informational value. Lemmatization allows the model to better understand the underlying meaning of words, grouping different forms of the same word (e.g., \"remove\", \"removing\", \"removed\") and thus emphasizing semantic relevance over surface-level positivity.\n",
    "\n",
    "- This likely results in the lemma-based summary being more focused, coherent, and aligned with the main point of the article, making it the better summary in terms of content quality and informativeness."
   ]
  }
 ],
 "metadata": {
  "kernelspec": {
   "display_name": ".venv",
   "language": "python",
   "name": "python3"
  },
  "language_info": {
   "codemirror_mode": {
    "name": "ipython",
    "version": 3
   },
   "file_extension": ".py",
   "mimetype": "text/x-python",
   "name": "python",
   "nbconvert_exporter": "python",
   "pygments_lexer": "ipython3",
   "version": "3.12.5"
  }
 },
 "nbformat": 4,
 "nbformat_minor": 4
}
